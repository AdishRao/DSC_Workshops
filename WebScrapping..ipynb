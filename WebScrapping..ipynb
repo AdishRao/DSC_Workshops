{
 "cells": [
  {
   "cell_type": "code",
   "execution_count": 95,
   "metadata": {},
   "outputs": [],
   "source": [
    "from urllib.request import urlopen as uReq\n",
    "from bs4 import BeautifulSoup as soup"
   ]
  },
  {
   "cell_type": "code",
   "execution_count": 4,
   "metadata": {},
   "outputs": [],
   "source": [
    "myurl = 'https://www.amazon.in/s/ref=nb_sb_noss_2?url=search-alias%3Daps&field-keywords=mobiles'"
   ]
  },
  {
   "cell_type": "code",
   "execution_count": 6,
   "metadata": {},
   "outputs": [],
   "source": [
    "uClient = uReq(myurl)"
   ]
  },
  {
   "cell_type": "code",
   "execution_count": 96,
   "metadata": {},
   "outputs": [],
   "source": [
    "page_html = uClient.read()"
   ]
  },
  {
   "cell_type": "code",
   "execution_count": 9,
   "metadata": {},
   "outputs": [],
   "source": [
    "uClient.close()"
   ]
  },
  {
   "cell_type": "code",
   "execution_count": 66,
   "metadata": {},
   "outputs": [],
   "source": [
    "page_soup = soup(page_html,\"html.parser\")"
   ]
  },
  {
   "cell_type": "code",
   "execution_count": 129,
   "metadata": {},
   "outputs": [
    {
     "data": {
      "text/plain": [
       "'10,999'"
      ]
     },
     "execution_count": 129,
     "metadata": {},
     "output_type": "execute_result"
    }
   ],
   "source": [
    "containers = page_soup.findAll(\"div\",{\"class\":\"s-item-container\"})\n",
    "containers.pop()\n",
    "containers[1].findAll(\"span\",{\"class\":\"a-size-base a-color-price s-price a-text-bold\"})[0].contents[-1]\n"
   ]
  },
  {
   "cell_type": "code",
   "execution_count": 143,
   "metadata": {},
   "outputs": [
    {
     "data": {
      "text/plain": [
       "'9,290'"
      ]
     },
     "execution_count": 143,
     "metadata": {},
     "output_type": "execute_result"
    }
   ],
   "source": [
    "containers[0].findAll(\"span\",{\"class\":\"a-text-strike\"})[0].contents[-1]"
   ]
  },
  {
   "cell_type": "code",
   "execution_count": 158,
   "metadata": {},
   "outputs": [],
   "source": [
    "phones = list()\n",
    "brands = list()\n",
    "price =list()\n",
    "disprice = list()\n",
    "for container in containers:\n",
    "    phones.append(container.div.div.find(\"a\",{\"class\":\"a-link-normal s-access-detail-page s-color-twister-title-link a-text-normal\"}).h2[\"data-attribute\"])\n",
    "    brands.append(container.div.div.findAll(\"div\",{\"class\":\"a-row a-spacing-none\"})[1].findAll(\"span\",{\"class\":\"a-size-small a-color-secondary\"})[1].text)\n",
    "    disprice.append(container.findAll(\"span\",{\"class\":\"a-size-base a-color-price s-price a-text-bold\"})[0].contents[-1])\n",
    "    try:\n",
    "        price.append(container.findAll(\"span\",{\"class\":\"a-text-strike\"})[0].contents[-1])\n",
    "    except:\n",
    "        price.append(container.findAll(\"span\",{\"class\":\"a-size-base a-color-price s-price a-text-bold\"})[0].contents[-1])"
   ]
  },
  {
   "cell_type": "code",
   "execution_count": 159,
   "metadata": {},
   "outputs": [
    {
     "data": {
      "text/plain": [
       "[('Samsung Galaxy M10 (Ocean Blue, 3+32GB)', '9,290', '8,990'),\n",
       " ('Redmi 6 Pro (Black, 4GB RAM, 64GB Storage)', '13,499', '10,999'),\n",
       " ('Mi Redmi Y2 (Black, 3GB RAM, 32GB Storage)', '10,499', '8,999'),\n",
       " ('Mi A2 (Black, 6GB RAM, 128GB Storage)', '20,500', '15,999'),\n",
       " ('Honor 7C (Blue, 3GB RAM, 32GB Storage)', '12,999', '7,999'),\n",
       " ('Realme 1 (Black, 6GB RAM, 128GB Storage)', '14,990', '12,990'),\n",
       " ('Lenovo K8 Note (Venom Black, 4GB RAM, 64GB Storage) with New System Update',\n",
       "  '14,999',\n",
       "  '8,524'),\n",
       " ('OnePlus 6T (Mirror Black, 6GB RAM, 128GB Storage)', '37,999', '37,999'),\n",
       " ('Redmi 6 Pro (Black, 3GB RAM, 32GB Storage)', '11,499', '8,999'),\n",
       " ('Redmi Y2 (Dark Grey, 4GB RAM, 64GB Storage)', '13,499', '10,999'),\n",
       " ('InFocus Vision 3 (Midnight Black, 2GB RAM, 16GB Storage)',\n",
       "  '7,999',\n",
       "  '5,775'),\n",
       " ('Realme U1 (Brave Blue, 3GB RAM, 32GB Storage)', '12,999', '9,999'),\n",
       " ('Samsung Guru Music 2 (SM-B310E, Blue)', '1,950', '1,625'),\n",
       " ('Oppo F11 Pro (Thunder Black, 6GB RAM, 64GB Storage) with Offer',\n",
       "  '28,990',\n",
       "  '24,990'),\n",
       " ('Redmi Note 5 Pro (Black, 6GB RAM, 64GB Storage)', '16,999', '13,899'),\n",
       " ('Redmi 6A (Black, 2GB RAM, 16GB Storage)', '6,999', '5,999')]"
      ]
     },
     "execution_count": 159,
     "metadata": {},
     "output_type": "execute_result"
    }
   ],
   "source": [
    "list(zip(phones,price,disprice))"
   ]
  },
  {
   "cell_type": "code",
   "execution_count": null,
   "metadata": {},
   "outputs": [],
   "source": []
  }
 ],
 "metadata": {
  "kernelspec": {
   "display_name": "Python 3",
   "language": "python",
   "name": "python3"
  },
  "language_info": {
   "codemirror_mode": {
    "name": "ipython",
    "version": 3
   },
   "file_extension": ".py",
   "mimetype": "text/x-python",
   "name": "python",
   "nbconvert_exporter": "python",
   "pygments_lexer": "ipython3",
   "version": "3.6.6"
  }
 },
 "nbformat": 4,
 "nbformat_minor": 2
}
