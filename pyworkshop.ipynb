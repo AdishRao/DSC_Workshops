{
 "cells": [
  {
   "cell_type": "markdown",
   "metadata": {},
   "source": [
    "# Python variables [3:30]"
   ]
  },
  {
   "cell_type": "code",
   "execution_count": 1,
   "metadata": {},
   "outputs": [],
   "source": [
    "a = 10\n",
    "a = 10.5\n",
    "a = 'hello'\n",
    "a = True"
   ]
  },
  {
   "cell_type": "markdown",
   "metadata": {},
   "source": [
    "### Lists"
   ]
  },
  {
   "cell_type": "code",
   "execution_count": 2,
   "metadata": {},
   "outputs": [
    {
     "data": {
      "text/plain": [
       "[1, 2, 3, 1.5, 2.5, 3.5, 'h', 'e', 'l', 'hello', ['good', 'day', [1, 2]]]"
      ]
     },
     "execution_count": 2,
     "metadata": {},
     "output_type": "execute_result"
    }
   ],
   "source": [
    "a = [1,2,3,1.5,2.5,3.5,'h','e','l','hello',['good','day',[1,2]]]\n",
    "a"
   ]
  },
  {
   "cell_type": "markdown",
   "metadata": {},
   "source": [
    "### Tuples and Sets"
   ]
  },
  {
   "cell_type": "code",
   "execution_count": 13,
   "metadata": {},
   "outputs": [
    {
     "data": {
      "text/plain": [
       "(1, 2, 3, 4, 4)"
      ]
     },
     "execution_count": 13,
     "metadata": {},
     "output_type": "execute_result"
    }
   ],
   "source": [
    "a = (1,2,3,4,4)\n",
    "a"
   ]
  },
  {
   "cell_type": "code",
   "execution_count": 4,
   "metadata": {},
   "outputs": [
    {
     "data": {
      "text/plain": [
       "{1, 2, 3}"
      ]
     },
     "execution_count": 4,
     "metadata": {},
     "output_type": "execute_result"
    }
   ],
   "source": [
    "a = {1,2,2,3,3,2,1}\n",
    "a"
   ]
  },
  {
   "cell_type": "markdown",
   "metadata": {},
   "source": [
    "### Dictionary"
   ]
  },
  {
   "cell_type": "code",
   "execution_count": 5,
   "metadata": {},
   "outputs": [
    {
     "data": {
      "text/plain": [
       "{'h': 'hello',\n",
       " 'b': 'bye',\n",
       " 1: 'One',\n",
       " 2: 'Two',\n",
       " 'inner': {3: 'three', 4: 'four'},\n",
       " (1, 2, 3): 'one two three'}"
      ]
     },
     "execution_count": 5,
     "metadata": {},
     "output_type": "execute_result"
    }
   ],
   "source": [
    "a = {'h':'hello','b':'bye', 1:'One',2:'Two','inner':{3:'three',4:'four'},(1,2,3):'one two three'}\n",
    "a"
   ]
  },
  {
   "cell_type": "markdown",
   "metadata": {},
   "source": [
    "# Basic List and String operations    [3:45]"
   ]
  },
  {
   "cell_type": "code",
   "execution_count": 6,
   "metadata": {},
   "outputs": [
    {
     "data": {
      "text/plain": [
       "[1, 2, 3, 1.5, 2.5, 3.5, 'h', 'e', 'l', 'hello', ['good', 'day', [1, 2]]]"
      ]
     },
     "execution_count": 6,
     "metadata": {},
     "output_type": "execute_result"
    }
   ],
   "source": [
    "l = [1,2,3,1.5,2.5,3.5,'h','e','l','hello',['good','day',[1,2]]]\n",
    "l"
   ]
  },
  {
   "cell_type": "code",
   "execution_count": 7,
   "metadata": {
    "scrolled": true
   },
   "outputs": [
    {
     "name": "stdout",
     "output_type": "stream",
     "text": [
      "Deep: good\n"
     ]
    },
    {
     "data": {
      "text/plain": [
       "['changed',\n",
       " 2,\n",
       " 3,\n",
       " 1.5,\n",
       " 2.5,\n",
       " 3.5,\n",
       " 'h',\n",
       " 'e',\n",
       " 'l',\n",
       " 'hello',\n",
       " ['good', 'day', [1, 2]],\n",
       " [5, 6, 7],\n",
       " 8,\n",
       " 'added']"
      ]
     },
     "execution_count": 7,
     "metadata": {},
     "output_type": "execute_result"
    }
   ],
   "source": [
    "l.append([5,6,7])\n",
    "l.append(8)\n",
    "print('Deep:',l[10][0])\n",
    "#l[13] = 'added'\n",
    "l.insert(15,'added')\n",
    "l[0] = 'changed'\n",
    "l"
   ]
  },
  {
   "cell_type": "markdown",
   "metadata": {},
   "source": [
    "#### s[start:stop:step]"
   ]
  },
  {
   "cell_type": "code",
   "execution_count": 8,
   "metadata": {},
   "outputs": [
    {
     "name": "stdout",
     "output_type": "stream",
     "text": [
      "Orts t\n",
      "trap deddA gnirtS tset ruO\n"
     ]
    }
   ],
   "source": [
    "S = 'Our test String'\n",
    "S+= ' Added part'\n",
    "print(S[0:11:2])\n",
    "print(S[::-1])"
   ]
  },
  {
   "cell_type": "markdown",
   "metadata": {},
   "source": [
    "# Control Flow [4:00]"
   ]
  },
  {
   "cell_type": "markdown",
   "metadata": {},
   "source": [
    "## If"
   ]
  },
  {
   "cell_type": "code",
   "execution_count": 9,
   "metadata": {},
   "outputs": [
    {
     "name": "stdout",
     "output_type": "stream",
     "text": [
      "C>ALL\n"
     ]
    }
   ],
   "source": [
    "a = 10\n",
    "b = 20\n",
    "c = 30\n",
    "if a>b:\n",
    "    print('A>B')\n",
    "elif b>c:\n",
    "    print('B>C')\n",
    "else:\n",
    "    print('C>ALL')"
   ]
  },
  {
   "cell_type": "markdown",
   "metadata": {},
   "source": [
    "## while"
   ]
  },
  {
   "cell_type": "code",
   "execution_count": 10,
   "metadata": {},
   "outputs": [
    {
     "name": "stdout",
     "output_type": "stream",
     "text": [
      "1\n",
      "2\n",
      "3\n",
      "4\n",
      "6\n",
      "7\n",
      "8\n",
      "9\n",
      "in else\n",
      "------------------------------------------------------------\n",
      "1\n",
      "2\n",
      "3\n",
      "4\n"
     ]
    }
   ],
   "source": [
    "a = 1\n",
    "while a<10:\n",
    "    if (a==5):\n",
    "        a+=1\n",
    "        continue\n",
    "    print(a)\n",
    "    a+=1\n",
    "else:\n",
    "    print('in else')\n",
    "print('--'*30)\n",
    "a = 1\n",
    "while a<10:\n",
    "    print(a)\n",
    "    a+=1\n",
    "    if(a==5):\n",
    "        break\n",
    "else:\n",
    "    print('not reached')"
   ]
  },
  {
   "cell_type": "markdown",
   "metadata": {},
   "source": [
    "## For"
   ]
  },
  {
   "cell_type": "markdown",
   "metadata": {},
   "source": [
    "### Range and Enumerate"
   ]
  },
  {
   "cell_type": "code",
   "execution_count": 11,
   "metadata": {
    "scrolled": false
   },
   "outputs": [
    {
     "name": "stdout",
     "output_type": "stream",
     "text": [
      "10\n",
      "11\n",
      "12\n",
      "13\n",
      "14\n",
      "15\n",
      "16\n",
      "____________________________________________________________\n",
      "1\n",
      "2\n",
      "3\n",
      "h\n",
      "i\n",
      "hello\n",
      "world\n",
      "____________________________________________________________\n",
      "i: 0  j: 1\n",
      "i: 1  j: 2\n",
      "i: 2  j: 3\n",
      "i: 3  j: h\n",
      "i: 4  j: i\n",
      "i: 5  j: hello\n",
      "i: 6  j: world\n"
     ]
    }
   ],
   "source": [
    "for i in range(10,17):\n",
    "    print(i)\n",
    "l = [1,2,3,'h','i','hello','world'] #lists strings dictionaries\n",
    "print('__'*30)\n",
    "for i in l:\n",
    "    print(i)\n",
    "print('__'*30)\n",
    "for i,j in enumerate(l):\n",
    "    print('i:',i,' j:',j)"
   ]
  },
  {
   "cell_type": "markdown",
   "metadata": {},
   "source": [
    "## Operators"
   ]
  },
  {
   "cell_type": "code",
   "execution_count": 12,
   "metadata": {},
   "outputs": [],
   "source": [
    "lis = [1,2,3,[4,5]]\n",
    "a = True\n",
    "b = True\n",
    "c = False\n",
    "d = 10\n",
    "e = 10\n",
    "f = 20"
   ]
  },
  {
   "cell_type": "code",
   "execution_count": 13,
   "metadata": {
    "scrolled": true
   },
   "outputs": [
    {
     "name": "stdout",
     "output_type": "stream",
     "text": [
      "4 in lis: False\n",
      "____________________________________________________________\n",
      "[4,5] in lis: True\n",
      "____________________________________________________________\n",
      "a and c: False\n",
      "____________________________________________________________\n",
      "a or c: True\n",
      "____________________________________________________________\n",
      "a and not c or b: True\n",
      "____________________________________________________________\n",
      "d is e: True\n",
      "____________________________________________________________\n",
      "d is f: False\n"
     ]
    }
   ],
   "source": [
    "print('4 in lis:',4 in lis)\n",
    "print('__'*30)\n",
    "print('[4,5] in lis:',[4,5] in lis)\n",
    "print('__'*30)\n",
    "print('a and c:',a and c)\n",
    "print('__'*30)\n",
    "print('a or c:',a or c)\n",
    "print('__'*30)\n",
    "print('a and not c or b:',a and not c or b)\n",
    "print('__'*30)\n",
    "print('d is e:',d is e)\n",
    "print('__'*30)\n",
    "print('d is f:',d is f)"
   ]
  },
  {
   "cell_type": "markdown",
   "metadata": {},
   "source": [
    "# Functions [4:20]"
   ]
  },
  {
   "cell_type": "code",
   "execution_count": 14,
   "metadata": {},
   "outputs": [],
   "source": [
    "def func(x,y=7,*lis,**dic):\n",
    "    print('x:',x)\n",
    "    print('y:',y)\n",
    "    print('list:',lis)\n",
    "    print('dict:',dic)"
   ]
  },
  {
   "cell_type": "code",
   "execution_count": 15,
   "metadata": {},
   "outputs": [
    {
     "name": "stdout",
     "output_type": "stream",
     "text": [
      "x: 1\n",
      "y: 7\n",
      "list: ()\n",
      "dict: {}\n"
     ]
    }
   ],
   "source": [
    "func(1)"
   ]
  },
  {
   "cell_type": "code",
   "execution_count": 16,
   "metadata": {},
   "outputs": [
    {
     "name": "stdout",
     "output_type": "stream",
     "text": [
      "x: 1\n",
      "y: 11\n",
      "list: ()\n",
      "dict: {}\n"
     ]
    }
   ],
   "source": [
    "func(1,11)"
   ]
  },
  {
   "cell_type": "code",
   "execution_count": 17,
   "metadata": {},
   "outputs": [
    {
     "name": "stdout",
     "output_type": "stream",
     "text": [
      "x: 1\n",
      "y: 11\n",
      "list: (40, 50, 60, 70)\n",
      "dict: {}\n"
     ]
    }
   ],
   "source": [
    "func(1,11,40,50,60,70)"
   ]
  },
  {
   "cell_type": "code",
   "execution_count": 18,
   "metadata": {},
   "outputs": [
    {
     "name": "stdout",
     "output_type": "stream",
     "text": [
      "x: 1\n",
      "y: 11\n",
      "list: (40, 50, 60, 70)\n",
      "dict: {'name': 'DSC', 'workshop': 'Python'}\n"
     ]
    }
   ],
   "source": [
    "func(1,11,40,50,60,70,name='DSC',workshop='Python')"
   ]
  },
  {
   "cell_type": "code",
   "execution_count": 19,
   "metadata": {},
   "outputs": [],
   "source": [
    "def func1(a,b,c):\n",
    "    print(f'a {a} b {b} c{c}')\n",
    "    return \"hello All\""
   ]
  },
  {
   "cell_type": "code",
   "execution_count": 20,
   "metadata": {},
   "outputs": [
    {
     "name": "stdout",
     "output_type": "stream",
     "text": [
      "a 99 b 7 c10\n",
      "hello All\n"
     ]
    }
   ],
   "source": [
    "y = func1(b=7,c=10,a=99)\n",
    "print(y)"
   ]
  },
  {
   "cell_type": "markdown",
   "metadata": {},
   "source": [
    "# Finish [4:40]"
   ]
  },
  {
   "cell_type": "markdown",
   "metadata": {},
   "source": [
    "# Challenges:"
   ]
  },
  {
   "cell_type": "markdown",
   "metadata": {},
   "source": [
    "## 1"
   ]
  },
  {
   "cell_type": "markdown",
   "metadata": {},
   "source": [
    "```\n",
    "1\n",
    "22\n",
    "333\n",
    "4444\n",
    "55555\n",
    "```"
   ]
  },
  {
   "cell_type": "markdown",
   "metadata": {},
   "source": [
    "## 2"
   ]
  },
  {
   "cell_type": "markdown",
   "metadata": {},
   "source": [
    "```\n",
    "100\t99\t98\t97\t96\t95\t94\t93\t92\t91\t\n",
    "81\t82\t83\t84\t85\t86\t87\t88\t89\t90\t\n",
    "80\t79\t78\t77\t76\t75\t74\t73\t72\t71\t\n",
    "61\t62\t63\t64\t65\t66\t67\t68\t69\t70\t\n",
    "60\t59\t58\t57\t56\t55\t54\t53\t52\t51\t\n",
    "41\t42\t43\t44\t45\t46\t47\t48\t49\t50\t\n",
    "40\t39\t38\t37\t36\t35\t34\t33\t32\t31\t\n",
    "21\t22\t23\t24\t25\t26\t27\t28\t29\t30\t\n",
    "20\t19\t18\t17\t16\t15\t14\t13\t12\t11\t\n",
    "1\t2\t3\t4\t5\t6\t7\t8\t9\t10\n",
    "```"
   ]
  },
  {
   "cell_type": "markdown",
   "metadata": {},
   "source": [
    "## 3"
   ]
  },
  {
   "cell_type": "markdown",
   "metadata": {},
   "source": [
    "```\n",
    "string = John had a lot of fun John is a fun boy\n",
    "\n",
    "{'john':2, 'had':1, 'a':2, 'lot':1, 'of':1, 'fun':2, 'is':1, 'boy':1}\n",
    "\n",
    "```"
   ]
  },
  {
   "cell_type": "code",
   "execution_count": 10,
   "metadata": {},
   "outputs": [],
   "source": [
    "import pandas as pd\n",
    "import numpy as np"
   ]
  },
  {
   "cell_type": "code",
   "execution_count": 2,
   "metadata": {},
   "outputs": [
    {
     "name": "stdout",
     "output_type": "stream",
     "text": [
      "atul is scared as hell\n"
     ]
    },
    {
     "data": {
      "text/plain": [
       "{'a': {'t': {'u': {'l': {}}}},\n",
       " 'i': {'s': {}},\n",
       " 's': {'c': {'a': {'r': {'e': {'d': {}}}}}},\n",
       " 'h': {'e': {'l': {'l': {}}}}}"
      ]
     },
     "execution_count": 2,
     "metadata": {},
     "output_type": "execute_result"
    }
   ],
   "source": [
    "db = dict()\n",
    "for i in input().split(): \n",
    "    level = db\n",
    "    for j in i:\n",
    "        if j not in level:\n",
    "            level[j] = dict()\n",
    "            level = level[j]\n",
    "db"
   ]
  },
  {
   "cell_type": "code",
   "execution_count": null,
   "metadata": {},
   "outputs": [],
   "source": []
  }
 ],
 "metadata": {
  "kernelspec": {
   "display_name": "Python 3",
   "language": "python",
   "name": "python3"
  },
  "language_info": {
   "codemirror_mode": {
    "name": "ipython",
    "version": 3
   },
   "file_extension": ".py",
   "mimetype": "text/x-python",
   "name": "python",
   "nbconvert_exporter": "python",
   "pygments_lexer": "ipython3",
   "version": "3.6.6"
  }
 },
 "nbformat": 4,
 "nbformat_minor": 2
}
