{
 "cells": [
  {
   "cell_type": "code",
   "execution_count": 1,
   "metadata": {},
   "outputs": [],
   "source": [
    "import smtplib\n",
    "import pandas as pd"
   ]
  },
  {
   "cell_type": "code",
   "execution_count": 28,
   "metadata": {
    "collapsed": true
   },
   "outputs": [
    {
     "data": {
      "text/plain": [
       "['sharang2000@gmail.com',\n",
       " 'mahima.gvs@gmail.com',\n",
       " 'rithvik.rama@gmail.com',\n",
       " 'eshan.naik@gmail.com',\n",
       " 'shreehaya@gmail.com',\n",
       " 'venkat.r300@gmail.com',\n",
       " 'bhavinchennur@gmail.com',\n",
       " 'sumukhrr.2000@gmail.com',\n",
       " 'rahulzeus456@gmail.com',\n",
       " 'abhyanth0809@gmail.com',\n",
       " 'abhyanth0809@gmail.com',\n",
       " 'raghaavan3@gmail.com',\n",
       " 'manikyabard@gmail.com',\n",
       " 'harshini17@outlook.com',\n",
       " 'snehajain2806@gmail.com',\n",
       " 'noorain.7.zehra@gmail.com',\n",
       " 'kiran.mallesh2000@gmail.com',\n",
       " 'jainsiddhesh018@gmail.com',\n",
       " 'mittal.aman307@gmail.com',\n",
       " '1pe17is031',\n",
       " 'abhaykondi@gmail.com',\n",
       " 'addssignhrox@gmail.com',\n",
       " 'mishikaraj99@gmail.com',\n",
       " 'ddbindra@gmail.com',\n",
       " 'abdulmannan611@gmail.com',\n",
       " 'mishimohan16@gmail.com',\n",
       " 'ankit.ar@outlook.com',\n",
       " 'dhanyashreeajila@gamil.com',\n",
       " 'aryamasinha864@gmail.com',\n",
       " 'vinayak.swamy6@gmail.com',\n",
       " 'alishabhambhani07@gmail.com',\n",
       " 'nithinbhat99@gmail.com',\n",
       " 'akshatajayashankar@gmail.com',\n",
       " 'btamith311@gmail.com',\n",
       " 'balacdk@gmail.com',\n",
       " 'supreethgvsg123@gmail.com',\n",
       " 'poralla.anil@gmail.com',\n",
       " 'mutaharmajid243@gmail.com',\n",
       " 'banu.teja958@gmail.com',\n",
       " 'rmarutimohit@gmail.com',\n",
       " 'yashjindal50000@gmail.com',\n",
       " 'nachiketh011@gmail.com',\n",
       " 'poojaoguri@gmail.com',\n",
       " 'nivedithapatil1999@gmail.com',\n",
       " 'omkarshirigannavar@gmail.com',\n",
       " 'riyabasak52@gmail.com',\n",
       " 'mohibayub23@gmail.com',\n",
       " 'preranapd1999@gmail.com',\n",
       " 'raorashmi487@gmail.com',\n",
       " 'snehilsnh@gmail.com',\n",
       " 'sadhanalokesh1999@gmail.com',\n",
       " 'ganavikanth@gmail.com',\n",
       " 'tologanyaa@gmail.com',\n",
       " 'hritvikd95@gmail.com',\n",
       " 'yathinkv@gmail.com',\n",
       " 'bhambhanirhea@gmail.com',\n",
       " 'namratha6391@gmail.com',\n",
       " 'abhilakshmisra@gmail.com',\n",
       " 'keshavgilra@gmail.com',\n",
       " 'karthiks061992@gmail.com',\n",
       " 'ndpsravanthi@gmail.com',\n",
       " 'tusharsethi@gmail.com',\n",
       " 'soukhya.mohankr@gmail.com',\n",
       " 'vijay.swetha18@gmail.com',\n",
       " 'adityagupta29798@gmail.com',\n",
       " 'sparshagarwal71@gmail.com',\n",
       " 'saisurya1603@gmail.com',\n",
       " 'bhambhanirhea@gmail.com',\n",
       " 'yathinkv@gmail.com',\n",
       " 'nithinbhat99@gmail.com',\n",
       " 'adish.rao98@gmail.com',\n",
       " 'abhishekguragol@gmail.com',\n",
       " 'aniruddha.mysore@gmail.com ',\n",
       " 'rahs98@gmail.com ']"
      ]
     },
     "execution_count": 28,
     "metadata": {},
     "output_type": "execute_result"
    }
   ],
   "source": [
    "df = pd.read_csv(\"pandws.csv\")\n",
    "emails = list(df.loc[:,'Email'])\n",
    "emails.append('adish.rao98@gmail.com')\n",
    "emails.append('abhishekguragol@gmail.com')\n",
    "emails.append('aniruddha.mysore@gmail.com ')\n",
    "emails.append('rahs98@gmail.com ')\n",
    "emails"
   ]
  },
  {
   "cell_type": "code",
   "execution_count": 29,
   "metadata": {},
   "outputs": [
    {
     "name": "stdout",
     "output_type": "stream",
     "text": [
      "connecting\n",
      "connected..\n"
     ]
    },
    {
     "data": {
      "text/plain": [
       "(221, b'2.0.0 closing connection m13sm46843350pff.175 - gsmtp')"
      ]
     },
     "execution_count": 29,
     "metadata": {},
     "output_type": "execute_result"
    }
   ],
   "source": [
    "SERVER_NAME='smtp.gmail.com'\n",
    "SERVER_PORT=587\n",
    "USER_NAME='dreams2reality2020@gmail.com'\n",
    "PASSWORD='dreams2reality'\n",
    "print('connecting')\n",
    "server = smtplib.SMTP(SERVER_NAME, SERVER_PORT)\n",
    "print('connected..')\n",
    "server.ehlo()\n",
    "server.starttls()\n",
    "server.ehlo()\n",
    "server.login(USER_NAME, PASSWORD)\n",
    "SUBJECT = 'Data Preprocessing Workshop DSC'\n",
    "text = \"Thank you all for participating in our workshop on Data Preprocessing! We do hope you learnt a little on data and the importance of Preprocessing.\\nThe notebook for the workshop can be found here: https://drive.google.com/file/d/1xGp5wwFk1mwPbdKzVJg5R8B8vglUUqOw/view?usp=sharing \\n\\n Furthermore regarding the guest lecture being held tomorrow(Saturday) a list of names has been submitted to Sandesh Sir who has selected a few of them. If you are recieving this email I'm sorry to inform you that your name was not one of the selected names. If you are truly interested please do write a letter and approach Sandesh Sir and your respective HOD's if you are not from CSE and request for the same. Do ensure that from each class only one representative goes as Sir is busy and cannot meet every student. For the reaming few, the entire talk will be available on our website which will be up and running shortly and can be found at: dsc-pesit.github.io \\n\\n Thank you.\"\n",
    "message = 'Subject: {}\\n\\n{}'.format(SUBJECT, text)\n",
    "for email in emails:\n",
    "    server.sendmail('dreams2reality202@gmail.com',email,message)\n",
    "server.quit()"
   ]
  },
  {
   "cell_type": "code",
   "execution_count": null,
   "metadata": {},
   "outputs": [],
   "source": []
  }
 ],
 "metadata": {
  "kernelspec": {
   "display_name": "Python 3",
   "language": "python",
   "name": "python3"
  },
  "language_info": {
   "codemirror_mode": {
    "name": "ipython",
    "version": 3
   },
   "file_extension": ".py",
   "mimetype": "text/x-python",
   "name": "python",
   "nbconvert_exporter": "python",
   "pygments_lexer": "ipython3",
   "version": "3.6.6"
  }
 },
 "nbformat": 4,
 "nbformat_minor": 2
}
